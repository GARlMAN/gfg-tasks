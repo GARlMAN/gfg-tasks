{
 "cells": [
  {
   "cell_type": "code",
   "execution_count": 1,
   "id": "d15eb1a8",
   "metadata": {},
   "outputs": [],
   "source": [
    "import numpy as np\n",
    "import matplotlib.pyplot as plt\n",
    "import pandas as pd"
   ]
  },
  {
   "cell_type": "code",
   "execution_count": 2,
   "id": "41aa1f30",
   "metadata": {},
   "outputs": [],
   "source": [
    "from sklearn.svm import SVR\n",
    "from sklearn.preprocessing import StandardScaler\n",
    "from sklearn.model_selection import train_test_split, GridSearchCV\n",
    "import matplotlib.pyplot as plt"
   ]
  },
  {
   "cell_type": "code",
   "execution_count": 62,
   "id": "709bcf70",
   "metadata": {},
   "outputs": [],
   "source": [
    "data = pd.read_csv('data.csv')"
   ]
  },
  {
   "cell_type": "code",
   "execution_count": 63,
   "id": "ec2d738a",
   "metadata": {},
   "outputs": [
    {
     "data": {
      "text/html": [
       "<div>\n",
       "<style scoped>\n",
       "    .dataframe tbody tr th:only-of-type {\n",
       "        vertical-align: middle;\n",
       "    }\n",
       "\n",
       "    .dataframe tbody tr th {\n",
       "        vertical-align: top;\n",
       "    }\n",
       "\n",
       "    .dataframe thead th {\n",
       "        text-align: right;\n",
       "    }\n",
       "</style>\n",
       "<table border=\"1\" class=\"dataframe\">\n",
       "  <thead>\n",
       "    <tr style=\"text-align: right;\">\n",
       "      <th></th>\n",
       "      <th>number_people</th>\n",
       "      <th>date</th>\n",
       "      <th>timestamp</th>\n",
       "      <th>day_of_week</th>\n",
       "      <th>is_weekend</th>\n",
       "      <th>is_holiday</th>\n",
       "      <th>temperature</th>\n",
       "      <th>is_start_of_semester</th>\n",
       "      <th>is_during_semester</th>\n",
       "      <th>month</th>\n",
       "      <th>hour</th>\n",
       "    </tr>\n",
       "  </thead>\n",
       "  <tbody>\n",
       "    <tr>\n",
       "      <th>0</th>\n",
       "      <td>37</td>\n",
       "      <td>2015-08-14 17:00:11-07:00</td>\n",
       "      <td>61211</td>\n",
       "      <td>4</td>\n",
       "      <td>0</td>\n",
       "      <td>0</td>\n",
       "      <td>71.76</td>\n",
       "      <td>0</td>\n",
       "      <td>0</td>\n",
       "      <td>8</td>\n",
       "      <td>17</td>\n",
       "    </tr>\n",
       "    <tr>\n",
       "      <th>1</th>\n",
       "      <td>45</td>\n",
       "      <td>2015-08-14 17:20:14-07:00</td>\n",
       "      <td>62414</td>\n",
       "      <td>4</td>\n",
       "      <td>0</td>\n",
       "      <td>0</td>\n",
       "      <td>71.76</td>\n",
       "      <td>0</td>\n",
       "      <td>0</td>\n",
       "      <td>8</td>\n",
       "      <td>17</td>\n",
       "    </tr>\n",
       "    <tr>\n",
       "      <th>2</th>\n",
       "      <td>40</td>\n",
       "      <td>2015-08-14 17:30:15-07:00</td>\n",
       "      <td>63015</td>\n",
       "      <td>4</td>\n",
       "      <td>0</td>\n",
       "      <td>0</td>\n",
       "      <td>71.76</td>\n",
       "      <td>0</td>\n",
       "      <td>0</td>\n",
       "      <td>8</td>\n",
       "      <td>17</td>\n",
       "    </tr>\n",
       "    <tr>\n",
       "      <th>3</th>\n",
       "      <td>44</td>\n",
       "      <td>2015-08-14 17:40:16-07:00</td>\n",
       "      <td>63616</td>\n",
       "      <td>4</td>\n",
       "      <td>0</td>\n",
       "      <td>0</td>\n",
       "      <td>71.76</td>\n",
       "      <td>0</td>\n",
       "      <td>0</td>\n",
       "      <td>8</td>\n",
       "      <td>17</td>\n",
       "    </tr>\n",
       "    <tr>\n",
       "      <th>4</th>\n",
       "      <td>45</td>\n",
       "      <td>2015-08-14 17:50:17-07:00</td>\n",
       "      <td>64217</td>\n",
       "      <td>4</td>\n",
       "      <td>0</td>\n",
       "      <td>0</td>\n",
       "      <td>71.76</td>\n",
       "      <td>0</td>\n",
       "      <td>0</td>\n",
       "      <td>8</td>\n",
       "      <td>17</td>\n",
       "    </tr>\n",
       "    <tr>\n",
       "      <th>...</th>\n",
       "      <td>...</td>\n",
       "      <td>...</td>\n",
       "      <td>...</td>\n",
       "      <td>...</td>\n",
       "      <td>...</td>\n",
       "      <td>...</td>\n",
       "      <td>...</td>\n",
       "      <td>...</td>\n",
       "      <td>...</td>\n",
       "      <td>...</td>\n",
       "      <td>...</td>\n",
       "    </tr>\n",
       "    <tr>\n",
       "      <th>62179</th>\n",
       "      <td>23</td>\n",
       "      <td>2017-03-18 18:42:28-07:00</td>\n",
       "      <td>67348</td>\n",
       "      <td>5</td>\n",
       "      <td>1</td>\n",
       "      <td>0</td>\n",
       "      <td>61.07</td>\n",
       "      <td>0</td>\n",
       "      <td>1</td>\n",
       "      <td>3</td>\n",
       "      <td>18</td>\n",
       "    </tr>\n",
       "    <tr>\n",
       "      <th>62180</th>\n",
       "      <td>21</td>\n",
       "      <td>2017-03-18 18:52:35-07:00</td>\n",
       "      <td>67955</td>\n",
       "      <td>5</td>\n",
       "      <td>1</td>\n",
       "      <td>0</td>\n",
       "      <td>61.07</td>\n",
       "      <td>0</td>\n",
       "      <td>1</td>\n",
       "      <td>3</td>\n",
       "      <td>18</td>\n",
       "    </tr>\n",
       "    <tr>\n",
       "      <th>62181</th>\n",
       "      <td>25</td>\n",
       "      <td>2017-03-18 19:02:40-07:00</td>\n",
       "      <td>68560</td>\n",
       "      <td>5</td>\n",
       "      <td>1</td>\n",
       "      <td>0</td>\n",
       "      <td>56.71</td>\n",
       "      <td>0</td>\n",
       "      <td>1</td>\n",
       "      <td>3</td>\n",
       "      <td>19</td>\n",
       "    </tr>\n",
       "    <tr>\n",
       "      <th>62182</th>\n",
       "      <td>18</td>\n",
       "      <td>2017-03-18 19:12:47-07:00</td>\n",
       "      <td>69167</td>\n",
       "      <td>5</td>\n",
       "      <td>1</td>\n",
       "      <td>0</td>\n",
       "      <td>56.71</td>\n",
       "      <td>0</td>\n",
       "      <td>1</td>\n",
       "      <td>3</td>\n",
       "      <td>19</td>\n",
       "    </tr>\n",
       "    <tr>\n",
       "      <th>62183</th>\n",
       "      <td>23</td>\n",
       "      <td>2017-03-18 19:22:51-07:00</td>\n",
       "      <td>69771</td>\n",
       "      <td>5</td>\n",
       "      <td>1</td>\n",
       "      <td>0</td>\n",
       "      <td>56.71</td>\n",
       "      <td>0</td>\n",
       "      <td>1</td>\n",
       "      <td>3</td>\n",
       "      <td>19</td>\n",
       "    </tr>\n",
       "  </tbody>\n",
       "</table>\n",
       "<p>62184 rows × 11 columns</p>\n",
       "</div>"
      ],
      "text/plain": [
       "       number_people                       date  timestamp  day_of_week  \\\n",
       "0                 37  2015-08-14 17:00:11-07:00      61211            4   \n",
       "1                 45  2015-08-14 17:20:14-07:00      62414            4   \n",
       "2                 40  2015-08-14 17:30:15-07:00      63015            4   \n",
       "3                 44  2015-08-14 17:40:16-07:00      63616            4   \n",
       "4                 45  2015-08-14 17:50:17-07:00      64217            4   \n",
       "...              ...                        ...        ...          ...   \n",
       "62179             23  2017-03-18 18:42:28-07:00      67348            5   \n",
       "62180             21  2017-03-18 18:52:35-07:00      67955            5   \n",
       "62181             25  2017-03-18 19:02:40-07:00      68560            5   \n",
       "62182             18  2017-03-18 19:12:47-07:00      69167            5   \n",
       "62183             23  2017-03-18 19:22:51-07:00      69771            5   \n",
       "\n",
       "       is_weekend  is_holiday  temperature  is_start_of_semester  \\\n",
       "0               0           0        71.76                     0   \n",
       "1               0           0        71.76                     0   \n",
       "2               0           0        71.76                     0   \n",
       "3               0           0        71.76                     0   \n",
       "4               0           0        71.76                     0   \n",
       "...           ...         ...          ...                   ...   \n",
       "62179           1           0        61.07                     0   \n",
       "62180           1           0        61.07                     0   \n",
       "62181           1           0        56.71                     0   \n",
       "62182           1           0        56.71                     0   \n",
       "62183           1           0        56.71                     0   \n",
       "\n",
       "       is_during_semester  month  hour  \n",
       "0                       0      8    17  \n",
       "1                       0      8    17  \n",
       "2                       0      8    17  \n",
       "3                       0      8    17  \n",
       "4                       0      8    17  \n",
       "...                   ...    ...   ...  \n",
       "62179                   1      3    18  \n",
       "62180                   1      3    18  \n",
       "62181                   1      3    19  \n",
       "62182                   1      3    19  \n",
       "62183                   1      3    19  \n",
       "\n",
       "[62184 rows x 11 columns]"
      ]
     },
     "execution_count": 63,
     "metadata": {},
     "output_type": "execute_result"
    }
   ],
   "source": [
    "data"
   ]
  },
  {
   "cell_type": "code",
   "execution_count": 64,
   "id": "fdf1c432",
   "metadata": {},
   "outputs": [],
   "source": [
    "data.isnull().sum()\n",
    "data.drop(\"date\", axis=1, inplace=True)\n",
    "data.drop(\"is_weekend\", axis=1, inplace=True)\n",
    "data.drop(\"hour\", axis=1, inplace=True)\n",
    "data.drop(\"is_holiday\", axis=1, inplace=True)"
   ]
  },
  {
   "cell_type": "code",
   "execution_count": 65,
   "id": "6bce1c57",
   "metadata": {},
   "outputs": [
    {
     "data": {
      "text/html": [
       "<div>\n",
       "<style scoped>\n",
       "    .dataframe tbody tr th:only-of-type {\n",
       "        vertical-align: middle;\n",
       "    }\n",
       "\n",
       "    .dataframe tbody tr th {\n",
       "        vertical-align: top;\n",
       "    }\n",
       "\n",
       "    .dataframe thead th {\n",
       "        text-align: right;\n",
       "    }\n",
       "</style>\n",
       "<table border=\"1\" class=\"dataframe\">\n",
       "  <thead>\n",
       "    <tr style=\"text-align: right;\">\n",
       "      <th></th>\n",
       "      <th>number_people</th>\n",
       "      <th>timestamp</th>\n",
       "      <th>day_of_week</th>\n",
       "      <th>temperature</th>\n",
       "      <th>is_start_of_semester</th>\n",
       "      <th>is_during_semester</th>\n",
       "      <th>month</th>\n",
       "    </tr>\n",
       "  </thead>\n",
       "  <tbody>\n",
       "    <tr>\n",
       "      <th>count</th>\n",
       "      <td>62184.000000</td>\n",
       "      <td>62184.000000</td>\n",
       "      <td>62184.000000</td>\n",
       "      <td>62184.000000</td>\n",
       "      <td>62184.000000</td>\n",
       "      <td>62184.000000</td>\n",
       "      <td>62184.000000</td>\n",
       "    </tr>\n",
       "    <tr>\n",
       "      <th>mean</th>\n",
       "      <td>29.072543</td>\n",
       "      <td>45799.437958</td>\n",
       "      <td>2.982504</td>\n",
       "      <td>58.557108</td>\n",
       "      <td>0.078831</td>\n",
       "      <td>0.660218</td>\n",
       "      <td>7.439824</td>\n",
       "    </tr>\n",
       "    <tr>\n",
       "      <th>std</th>\n",
       "      <td>22.689026</td>\n",
       "      <td>24211.275891</td>\n",
       "      <td>1.996825</td>\n",
       "      <td>6.316396</td>\n",
       "      <td>0.269476</td>\n",
       "      <td>0.473639</td>\n",
       "      <td>3.445069</td>\n",
       "    </tr>\n",
       "    <tr>\n",
       "      <th>min</th>\n",
       "      <td>0.000000</td>\n",
       "      <td>0.000000</td>\n",
       "      <td>0.000000</td>\n",
       "      <td>38.140000</td>\n",
       "      <td>0.000000</td>\n",
       "      <td>0.000000</td>\n",
       "      <td>1.000000</td>\n",
       "    </tr>\n",
       "    <tr>\n",
       "      <th>25%</th>\n",
       "      <td>9.000000</td>\n",
       "      <td>26624.000000</td>\n",
       "      <td>1.000000</td>\n",
       "      <td>55.000000</td>\n",
       "      <td>0.000000</td>\n",
       "      <td>0.000000</td>\n",
       "      <td>5.000000</td>\n",
       "    </tr>\n",
       "    <tr>\n",
       "      <th>50%</th>\n",
       "      <td>28.000000</td>\n",
       "      <td>46522.500000</td>\n",
       "      <td>3.000000</td>\n",
       "      <td>58.340000</td>\n",
       "      <td>0.000000</td>\n",
       "      <td>1.000000</td>\n",
       "      <td>8.000000</td>\n",
       "    </tr>\n",
       "    <tr>\n",
       "      <th>75%</th>\n",
       "      <td>43.000000</td>\n",
       "      <td>66612.000000</td>\n",
       "      <td>5.000000</td>\n",
       "      <td>62.280000</td>\n",
       "      <td>0.000000</td>\n",
       "      <td>1.000000</td>\n",
       "      <td>10.000000</td>\n",
       "    </tr>\n",
       "    <tr>\n",
       "      <th>max</th>\n",
       "      <td>145.000000</td>\n",
       "      <td>86399.000000</td>\n",
       "      <td>6.000000</td>\n",
       "      <td>87.170000</td>\n",
       "      <td>1.000000</td>\n",
       "      <td>1.000000</td>\n",
       "      <td>12.000000</td>\n",
       "    </tr>\n",
       "  </tbody>\n",
       "</table>\n",
       "</div>"
      ],
      "text/plain": [
       "       number_people     timestamp   day_of_week   temperature  \\\n",
       "count   62184.000000  62184.000000  62184.000000  62184.000000   \n",
       "mean       29.072543  45799.437958      2.982504     58.557108   \n",
       "std        22.689026  24211.275891      1.996825      6.316396   \n",
       "min         0.000000      0.000000      0.000000     38.140000   \n",
       "25%         9.000000  26624.000000      1.000000     55.000000   \n",
       "50%        28.000000  46522.500000      3.000000     58.340000   \n",
       "75%        43.000000  66612.000000      5.000000     62.280000   \n",
       "max       145.000000  86399.000000      6.000000     87.170000   \n",
       "\n",
       "       is_start_of_semester  is_during_semester         month  \n",
       "count          62184.000000        62184.000000  62184.000000  \n",
       "mean               0.078831            0.660218      7.439824  \n",
       "std                0.269476            0.473639      3.445069  \n",
       "min                0.000000            0.000000      1.000000  \n",
       "25%                0.000000            0.000000      5.000000  \n",
       "50%                0.000000            1.000000      8.000000  \n",
       "75%                0.000000            1.000000     10.000000  \n",
       "max                1.000000            1.000000     12.000000  "
      ]
     },
     "execution_count": 65,
     "metadata": {},
     "output_type": "execute_result"
    }
   ],
   "source": [
    "data.describe()"
   ]
  },
  {
   "cell_type": "code",
   "execution_count": null,
   "id": "9c8133f9",
   "metadata": {},
   "outputs": [],
   "source": []
  },
  {
   "cell_type": "code",
   "execution_count": 66,
   "id": "1b0fc471",
   "metadata": {},
   "outputs": [],
   "source": [
    "X_train, X_test, y_train, y_test = train_test_split(data.drop(\"number_people\", axis=1),data['number_people']  , test_size=0.2, random_state=42)"
   ]
  },
  {
   "cell_type": "code",
   "execution_count": 67,
   "id": "52b49252",
   "metadata": {},
   "outputs": [
    {
     "data": {
      "text/html": [
       "<div>\n",
       "<style scoped>\n",
       "    .dataframe tbody tr th:only-of-type {\n",
       "        vertical-align: middle;\n",
       "    }\n",
       "\n",
       "    .dataframe tbody tr th {\n",
       "        vertical-align: top;\n",
       "    }\n",
       "\n",
       "    .dataframe thead th {\n",
       "        text-align: right;\n",
       "    }\n",
       "</style>\n",
       "<table border=\"1\" class=\"dataframe\">\n",
       "  <thead>\n",
       "    <tr style=\"text-align: right;\">\n",
       "      <th></th>\n",
       "      <th>timestamp</th>\n",
       "      <th>day_of_week</th>\n",
       "      <th>temperature</th>\n",
       "      <th>is_start_of_semester</th>\n",
       "      <th>is_during_semester</th>\n",
       "      <th>month</th>\n",
       "    </tr>\n",
       "  </thead>\n",
       "  <tbody>\n",
       "    <tr>\n",
       "      <th>44802</th>\n",
       "      <td>12360</td>\n",
       "      <td>1</td>\n",
       "      <td>59.50</td>\n",
       "      <td>0</td>\n",
       "      <td>1</td>\n",
       "      <td>9</td>\n",
       "    </tr>\n",
       "    <tr>\n",
       "      <th>51279</th>\n",
       "      <td>64756</td>\n",
       "      <td>6</td>\n",
       "      <td>62.39</td>\n",
       "      <td>0</td>\n",
       "      <td>1</td>\n",
       "      <td>11</td>\n",
       "    </tr>\n",
       "    <tr>\n",
       "      <th>36816</th>\n",
       "      <td>80752</td>\n",
       "      <td>6</td>\n",
       "      <td>57.67</td>\n",
       "      <td>0</td>\n",
       "      <td>0</td>\n",
       "      <td>7</td>\n",
       "    </tr>\n",
       "    <tr>\n",
       "      <th>2503</th>\n",
       "      <td>85213</td>\n",
       "      <td>1</td>\n",
       "      <td>72.73</td>\n",
       "      <td>1</td>\n",
       "      <td>1</td>\n",
       "      <td>9</td>\n",
       "    </tr>\n",
       "    <tr>\n",
       "      <th>53035</th>\n",
       "      <td>7463</td>\n",
       "      <td>5</td>\n",
       "      <td>59.61</td>\n",
       "      <td>0</td>\n",
       "      <td>1</td>\n",
       "      <td>11</td>\n",
       "    </tr>\n",
       "    <tr>\n",
       "      <th>...</th>\n",
       "      <td>...</td>\n",
       "      <td>...</td>\n",
       "      <td>...</td>\n",
       "      <td>...</td>\n",
       "      <td>...</td>\n",
       "      <td>...</td>\n",
       "    </tr>\n",
       "    <tr>\n",
       "      <th>41289</th>\n",
       "      <td>4598</td>\n",
       "      <td>3</td>\n",
       "      <td>56.33</td>\n",
       "      <td>1</td>\n",
       "      <td>1</td>\n",
       "      <td>8</td>\n",
       "    </tr>\n",
       "    <tr>\n",
       "      <th>17170</th>\n",
       "      <td>70212</td>\n",
       "      <td>5</td>\n",
       "      <td>57.73</td>\n",
       "      <td>0</td>\n",
       "      <td>1</td>\n",
       "      <td>2</td>\n",
       "    </tr>\n",
       "    <tr>\n",
       "      <th>51989</th>\n",
       "      <td>63950</td>\n",
       "      <td>4</td>\n",
       "      <td>63.72</td>\n",
       "      <td>0</td>\n",
       "      <td>1</td>\n",
       "      <td>11</td>\n",
       "    </tr>\n",
       "    <tr>\n",
       "      <th>43332</th>\n",
       "      <td>37785</td>\n",
       "      <td>4</td>\n",
       "      <td>59.73</td>\n",
       "      <td>0</td>\n",
       "      <td>1</td>\n",
       "      <td>9</td>\n",
       "    </tr>\n",
       "    <tr>\n",
       "      <th>30459</th>\n",
       "      <td>6296</td>\n",
       "      <td>2</td>\n",
       "      <td>58.33</td>\n",
       "      <td>0</td>\n",
       "      <td>0</td>\n",
       "      <td>6</td>\n",
       "    </tr>\n",
       "  </tbody>\n",
       "</table>\n",
       "<p>12437 rows × 6 columns</p>\n",
       "</div>"
      ],
      "text/plain": [
       "       timestamp  day_of_week  temperature  is_start_of_semester  \\\n",
       "44802      12360            1        59.50                     0   \n",
       "51279      64756            6        62.39                     0   \n",
       "36816      80752            6        57.67                     0   \n",
       "2503       85213            1        72.73                     1   \n",
       "53035       7463            5        59.61                     0   \n",
       "...          ...          ...          ...                   ...   \n",
       "41289       4598            3        56.33                     1   \n",
       "17170      70212            5        57.73                     0   \n",
       "51989      63950            4        63.72                     0   \n",
       "43332      37785            4        59.73                     0   \n",
       "30459       6296            2        58.33                     0   \n",
       "\n",
       "       is_during_semester  month  \n",
       "44802                   1      9  \n",
       "51279                   1     11  \n",
       "36816                   0      7  \n",
       "2503                    1      9  \n",
       "53035                   1     11  \n",
       "...                   ...    ...  \n",
       "41289                   1      8  \n",
       "17170                   1      2  \n",
       "51989                   1     11  \n",
       "43332                   1      9  \n",
       "30459                   0      6  \n",
       "\n",
       "[12437 rows x 6 columns]"
      ]
     },
     "execution_count": 67,
     "metadata": {},
     "output_type": "execute_result"
    }
   ],
   "source": [
    "X_test"
   ]
  },
  {
   "cell_type": "code",
   "execution_count": 68,
   "id": "0893d839",
   "metadata": {},
   "outputs": [
    {
     "data": {
      "text/plain": [
       "35235    39\n",
       "21476    30\n",
       "24103    34\n",
       "23300    41\n",
       "43598    22\n",
       "         ..\n",
       "54343     1\n",
       "38158    17\n",
       "860      64\n",
       "15795    50\n",
       "56422     6\n",
       "Name: number_people, Length: 49747, dtype: int64"
      ]
     },
     "execution_count": 68,
     "metadata": {},
     "output_type": "execute_result"
    }
   ],
   "source": [
    "y_train"
   ]
  },
  {
   "cell_type": "code",
   "execution_count": 69,
   "id": "5d1f1cff",
   "metadata": {},
   "outputs": [],
   "source": [
    "normalization = StandardScaler()"
   ]
  },
  {
   "cell_type": "code",
   "execution_count": 70,
   "id": "af4410ea",
   "metadata": {},
   "outputs": [
    {
     "data": {
      "text/plain": [
       "StandardScaler()"
      ]
     },
     "execution_count": 70,
     "metadata": {},
     "output_type": "execute_result"
    }
   ],
   "source": [
    "normalization.fit(X_train)"
   ]
  },
  {
   "cell_type": "code",
   "execution_count": 71,
   "id": "1bc49f45",
   "metadata": {},
   "outputs": [],
   "source": [
    "X_train = normalization.transform(X_train)\n",
    "X_test = normalization.transform(X_test)"
   ]
  },
  {
   "cell_type": "code",
   "execution_count": 72,
   "id": "4e34df9d",
   "metadata": {},
   "outputs": [
    {
     "data": {
      "text/plain": [
       "array([[ 1.34976749, -0.49331804,  0.44593641, -0.29283498, -1.39644842,\n",
       "        -0.12702766],\n",
       "       [ 1.48071005, -1.49511797, -0.4857367 , -0.29283498,  0.71610235,\n",
       "        -1.28977575],\n",
       "       [ 0.29190679, -0.99421801,  1.72302574, -0.29283498,  0.71610235,\n",
       "        -0.99908873],\n",
       "       ...,\n",
       "       [-0.50105529,  1.51028181,  0.85948519, -0.29283498, -1.39644842,\n",
       "         0.16365936],\n",
       "       [ 1.23319063,  1.00938184, -0.87710278,  3.4148926 ,  0.71610235,\n",
       "        -1.87114979],\n",
       "       [-0.97912775, -0.99421801, -1.74064333, -0.29283498,  0.71610235,\n",
       "         1.32640744]])"
      ]
     },
     "execution_count": 72,
     "metadata": {},
     "output_type": "execute_result"
    }
   ],
   "source": [
    "X_train"
   ]
  },
  {
   "cell_type": "code",
   "execution_count": null,
   "id": "4b240cd0",
   "metadata": {},
   "outputs": [],
   "source": []
  },
  {
   "cell_type": "code",
   "execution_count": 44,
   "id": "2e4cff08",
   "metadata": {},
   "outputs": [],
   "source": [
    "SVR_model = SVR(cache_size = 2000, kernel='rbf',epsilon=5)"
   ]
  },
  {
   "cell_type": "code",
   "execution_count": 45,
   "id": "4bc3a4a3",
   "metadata": {},
   "outputs": [
    {
     "data": {
      "text/plain": [
       "SVR(cache_size=2000, epsilon=5)"
      ]
     },
     "execution_count": 45,
     "metadata": {},
     "output_type": "execute_result"
    }
   ],
   "source": [
    "SVR_model"
   ]
  },
  {
   "cell_type": "code",
   "execution_count": 46,
   "id": "6ec1fd90",
   "metadata": {},
   "outputs": [],
   "source": [
    "param_grid_SVR = {'C': [0.01, 0.1, 1, 10, 100], 'degree': [2,3,4,5]}\n",
    " "
   ]
  },
  {
   "cell_type": "code",
   "execution_count": 47,
   "id": "add1b916",
   "metadata": {},
   "outputs": [],
   "source": [
    "Grid_Search = GridSearchCV(estimator = SVR_model, param_grid = param_grid_SVR, verbose = 3)"
   ]
  },
  {
   "cell_type": "code",
   "execution_count": 48,
   "id": "7ba5c288",
   "metadata": {},
   "outputs": [
    {
     "data": {
      "text/plain": [
       "GridSearchCV(estimator=SVR(cache_size=2000, epsilon=5),\n",
       "             param_grid={'C': [0.01, 0.1, 1, 10, 100], 'degree': [2, 3, 4, 5]},\n",
       "             verbose=3)"
      ]
     },
     "execution_count": 48,
     "metadata": {},
     "output_type": "execute_result"
    }
   ],
   "source": [
    "Grid_Search"
   ]
  },
  {
   "cell_type": "code",
   "execution_count": 49,
   "id": "6df46385",
   "metadata": {
    "scrolled": true
   },
   "outputs": [
    {
     "name": "stdout",
     "output_type": "stream",
     "text": [
      "Fitting 5 folds for each of 20 candidates, totalling 100 fits\n",
      "[CV 1/5] END ..................C=0.01, degree=2;, score=0.410 total time= 2.5min\n",
      "[CV 2/5] END ..................C=0.01, degree=2;, score=0.414 total time= 2.6min\n",
      "[CV 3/5] END ..................C=0.01, degree=2;, score=0.409 total time= 2.3min\n",
      "[CV 4/5] END ..................C=0.01, degree=2;, score=0.402 total time= 2.3min\n",
      "[CV 5/5] END ..................C=0.01, degree=2;, score=0.411 total time= 2.9min\n",
      "[CV 1/5] END ..................C=0.01, degree=3;, score=0.410 total time= 3.4min\n",
      "[CV 2/5] END ..................C=0.01, degree=3;, score=0.414 total time= 3.5min\n",
      "[CV 3/5] END ..................C=0.01, degree=3;, score=0.409 total time= 3.5min\n",
      "[CV 4/5] END ..................C=0.01, degree=3;, score=0.402 total time= 3.5min\n",
      "[CV 5/5] END ..................C=0.01, degree=3;, score=0.411 total time= 3.5min\n",
      "[CV 1/5] END ..................C=0.01, degree=4;, score=0.410 total time= 3.4min\n",
      "[CV 2/5] END ..................C=0.01, degree=4;, score=0.414 total time= 3.5min\n",
      "[CV 3/5] END ..................C=0.01, degree=4;, score=0.409 total time= 3.5min\n",
      "[CV 4/5] END ..................C=0.01, degree=4;, score=0.402 total time= 3.4min\n",
      "[CV 5/5] END ..................C=0.01, degree=4;, score=0.411 total time= 3.5min\n",
      "[CV 1/5] END ..................C=0.01, degree=5;, score=0.410 total time= 3.4min\n",
      "[CV 2/5] END ..................C=0.01, degree=5;, score=0.414 total time= 3.6min\n",
      "[CV 3/5] END ..................C=0.01, degree=5;, score=0.409 total time= 3.6min\n",
      "[CV 4/5] END ..................C=0.01, degree=5;, score=0.402 total time= 3.5min\n",
      "[CV 5/5] END ..................C=0.01, degree=5;, score=0.411 total time= 3.6min\n",
      "[CV 1/5] END ...................C=0.1, degree=2;, score=0.561 total time= 3.1min\n",
      "[CV 2/5] END ...................C=0.1, degree=2;, score=0.563 total time= 3.0min\n",
      "[CV 3/5] END ...................C=0.1, degree=2;, score=0.558 total time= 3.0min\n",
      "[CV 4/5] END ...................C=0.1, degree=2;, score=0.557 total time= 3.0min\n",
      "[CV 5/5] END ...................C=0.1, degree=2;, score=0.558 total time= 3.1min\n",
      "[CV 1/5] END ...................C=0.1, degree=3;, score=0.561 total time= 3.0min\n",
      "[CV 2/5] END ...................C=0.1, degree=3;, score=0.563 total time= 3.0min\n",
      "[CV 3/5] END ...................C=0.1, degree=3;, score=0.558 total time= 3.0min\n",
      "[CV 4/5] END ...................C=0.1, degree=3;, score=0.557 total time= 3.0min\n",
      "[CV 5/5] END ...................C=0.1, degree=3;, score=0.558 total time= 3.0min\n",
      "[CV 1/5] END ...................C=0.1, degree=4;, score=0.561 total time= 3.0min\n",
      "[CV 2/5] END ...................C=0.1, degree=4;, score=0.563 total time= 3.0min\n",
      "[CV 3/5] END ...................C=0.1, degree=4;, score=0.558 total time= 3.0min\n",
      "[CV 4/5] END ...................C=0.1, degree=4;, score=0.557 total time= 3.0min\n",
      "[CV 5/5] END ...................C=0.1, degree=4;, score=0.558 total time= 3.0min\n",
      "[CV 1/5] END ...................C=0.1, degree=5;, score=0.561 total time= 3.0min\n",
      "[CV 2/5] END ...................C=0.1, degree=5;, score=0.563 total time= 3.0min\n",
      "[CV 3/5] END ...................C=0.1, degree=5;, score=0.558 total time= 3.0min\n",
      "[CV 4/5] END ...................C=0.1, degree=5;, score=0.557 total time= 3.0min\n",
      "[CV 5/5] END ...................C=0.1, degree=5;, score=0.558 total time= 3.0min\n",
      "[CV 1/5] END .....................C=1, degree=2;, score=0.622 total time= 2.8min\n",
      "[CV 2/5] END .....................C=1, degree=2;, score=0.624 total time= 2.8min\n",
      "[CV 3/5] END .....................C=1, degree=2;, score=0.615 total time= 2.8min\n",
      "[CV 4/5] END .....................C=1, degree=2;, score=0.622 total time= 2.8min\n",
      "[CV 5/5] END .....................C=1, degree=2;, score=0.614 total time= 2.8min\n",
      "[CV 1/5] END .....................C=1, degree=3;, score=0.622 total time= 2.8min\n",
      "[CV 2/5] END .....................C=1, degree=3;, score=0.624 total time= 2.8min\n",
      "[CV 3/5] END .....................C=1, degree=3;, score=0.615 total time= 2.8min\n",
      "[CV 4/5] END .....................C=1, degree=3;, score=0.622 total time= 2.9min\n",
      "[CV 5/5] END .....................C=1, degree=3;, score=0.614 total time= 2.9min\n",
      "[CV 1/5] END .....................C=1, degree=4;, score=0.622 total time= 2.9min\n",
      "[CV 2/5] END .....................C=1, degree=4;, score=0.624 total time= 3.0min\n",
      "[CV 3/5] END .....................C=1, degree=4;, score=0.615 total time= 2.9min\n",
      "[CV 4/5] END .....................C=1, degree=4;, score=0.622 total time= 2.9min\n",
      "[CV 5/5] END .....................C=1, degree=4;, score=0.614 total time= 2.8min\n",
      "[CV 1/5] END .....................C=1, degree=5;, score=0.622 total time= 3.0min\n",
      "[CV 2/5] END .....................C=1, degree=5;, score=0.624 total time= 3.0min\n",
      "[CV 3/5] END .....................C=1, degree=5;, score=0.615 total time= 2.9min\n",
      "[CV 4/5] END .....................C=1, degree=5;, score=0.622 total time= 2.8min\n",
      "[CV 5/5] END .....................C=1, degree=5;, score=0.614 total time= 2.9min\n",
      "[CV 1/5] END ....................C=10, degree=2;, score=0.652 total time= 2.7min\n",
      "[CV 2/5] END ....................C=10, degree=2;, score=0.653 total time= 2.7min\n",
      "[CV 3/5] END ....................C=10, degree=2;, score=0.645 total time= 2.7min\n",
      "[CV 4/5] END ....................C=10, degree=2;, score=0.653 total time= 2.7min\n",
      "[CV 5/5] END ....................C=10, degree=2;, score=0.644 total time= 2.7min\n",
      "[CV 1/5] END ....................C=10, degree=3;, score=0.652 total time= 2.7min\n",
      "[CV 2/5] END ....................C=10, degree=3;, score=0.653 total time= 2.7min\n",
      "[CV 3/5] END ....................C=10, degree=3;, score=0.645 total time= 2.7min\n",
      "[CV 4/5] END ....................C=10, degree=3;, score=0.653 total time= 2.7min\n",
      "[CV 5/5] END ....................C=10, degree=3;, score=0.644 total time= 2.8min\n",
      "[CV 1/5] END ....................C=10, degree=4;, score=0.652 total time= 2.8min\n",
      "[CV 2/5] END ....................C=10, degree=4;, score=0.653 total time= 2.9min\n",
      "[CV 3/5] END ....................C=10, degree=4;, score=0.645 total time= 2.7min\n",
      "[CV 4/5] END ....................C=10, degree=4;, score=0.653 total time= 2.7min\n",
      "[CV 5/5] END ....................C=10, degree=4;, score=0.644 total time= 2.7min\n",
      "[CV 1/5] END ....................C=10, degree=5;, score=0.652 total time= 2.8min\n",
      "[CV 2/5] END ....................C=10, degree=5;, score=0.653 total time= 2.9min\n",
      "[CV 3/5] END ....................C=10, degree=5;, score=0.645 total time= 2.8min\n",
      "[CV 4/5] END ....................C=10, degree=5;, score=0.653 total time= 2.9min\n",
      "[CV 5/5] END ....................C=10, degree=5;, score=0.644 total time= 2.8min\n",
      "[CV 1/5] END ...................C=100, degree=2;, score=0.681 total time= 3.0min\n",
      "[CV 2/5] END ...................C=100, degree=2;, score=0.683 total time= 3.0min\n",
      "[CV 3/5] END ...................C=100, degree=2;, score=0.677 total time= 2.9min\n",
      "[CV 4/5] END ...................C=100, degree=2;, score=0.682 total time= 2.9min\n",
      "[CV 5/5] END ...................C=100, degree=2;, score=0.675 total time= 3.0min\n",
      "[CV 1/5] END ...................C=100, degree=3;, score=0.681 total time= 2.9min\n",
      "[CV 2/5] END ...................C=100, degree=3;, score=0.683 total time= 2.9min\n",
      "[CV 3/5] END ...................C=100, degree=3;, score=0.677 total time= 2.9min\n",
      "[CV 4/5] END ...................C=100, degree=3;, score=0.682 total time= 2.9min\n",
      "[CV 5/5] END ...................C=100, degree=3;, score=0.675 total time= 2.9min\n",
      "[CV 1/5] END ...................C=100, degree=4;, score=0.681 total time= 2.8min\n",
      "[CV 2/5] END ...................C=100, degree=4;, score=0.683 total time= 2.9min\n",
      "[CV 3/5] END ...................C=100, degree=4;, score=0.677 total time= 2.8min\n",
      "[CV 4/5] END ...................C=100, degree=4;, score=0.682 total time= 2.9min\n",
      "[CV 5/5] END ...................C=100, degree=4;, score=0.675 total time= 2.9min\n",
      "[CV 1/5] END ...................C=100, degree=5;, score=0.681 total time= 3.0min\n",
      "[CV 2/5] END ...................C=100, degree=5;, score=0.683 total time= 3.0min\n",
      "[CV 3/5] END ...................C=100, degree=5;, score=0.677 total time= 2.9min\n",
      "[CV 4/5] END ...................C=100, degree=5;, score=0.682 total time= 2.8min\n",
      "[CV 5/5] END ...................C=100, degree=5;, score=0.675 total time= 2.9min\n"
     ]
    },
    {
     "data": {
      "text/plain": [
       "GridSearchCV(estimator=SVR(cache_size=2000, epsilon=5),\n",
       "             param_grid={'C': [0.01, 0.1, 1, 10, 100], 'degree': [2, 3, 4, 5]},\n",
       "             verbose=3)"
      ]
     },
     "execution_count": 49,
     "metadata": {},
     "output_type": "execute_result"
    }
   ],
   "source": [
    "Grid_Search.fit(X_train,y_train)"
   ]
  },
  {
   "cell_type": "code",
   "execution_count": 50,
   "id": "c17a673b",
   "metadata": {},
   "outputs": [
    {
     "data": {
      "text/plain": [
       "{'C': 100, 'degree': 2}"
      ]
     },
     "execution_count": 50,
     "metadata": {},
     "output_type": "execute_result"
    }
   ],
   "source": [
    "Grid_Search.best_params_"
   ]
  },
  {
   "cell_type": "code",
   "execution_count": 73,
   "id": "bb9de669",
   "metadata": {},
   "outputs": [],
   "source": [
    "SVR_model = SVR(cache_size = 2000, kernel='rbf', C=100, degree = 2, verbose = True, epsilon = 0.1)"
   ]
  },
  {
   "cell_type": "code",
   "execution_count": 74,
   "id": "2f615903",
   "metadata": {},
   "outputs": [
    {
     "data": {
      "text/plain": [
       "SVR(C=100, cache_size=2000, degree=2, verbose=True)"
      ]
     },
     "execution_count": 74,
     "metadata": {},
     "output_type": "execute_result"
    }
   ],
   "source": [
    "SVR_model"
   ]
  },
  {
   "cell_type": "code",
   "execution_count": 75,
   "id": "ea37f4a3",
   "metadata": {},
   "outputs": [
    {
     "name": "stdout",
     "output_type": "stream",
     "text": [
      "[LibSVM]"
     ]
    },
    {
     "data": {
      "text/plain": [
       "SVR(C=100, cache_size=2000, degree=2, verbose=True)"
      ]
     },
     "execution_count": 75,
     "metadata": {},
     "output_type": "execute_result"
    }
   ],
   "source": [
    "SVR_model.fit(X_train,y_train)"
   ]
  },
  {
   "cell_type": "code",
   "execution_count": 76,
   "id": "c7c67343",
   "metadata": {},
   "outputs": [
    {
     "data": {
      "text/plain": [
       "0.6929163129283933"
      ]
     },
     "execution_count": 76,
     "metadata": {},
     "output_type": "execute_result"
    }
   ],
   "source": [
    "SVR_model.score(X_test,y_test)"
   ]
  },
  {
   "cell_type": "code",
   "execution_count": null,
   "id": "14c1b2aa",
   "metadata": {},
   "outputs": [],
   "source": []
  }
 ],
 "metadata": {
  "kernelspec": {
   "display_name": "Python 3 (ipykernel)",
   "language": "python",
   "name": "python3"
  },
  "language_info": {
   "codemirror_mode": {
    "name": "ipython",
    "version": 3
   },
   "file_extension": ".py",
   "mimetype": "text/x-python",
   "name": "python",
   "nbconvert_exporter": "python",
   "pygments_lexer": "ipython3",
   "version": "3.9.7"
  }
 },
 "nbformat": 4,
 "nbformat_minor": 5
}
